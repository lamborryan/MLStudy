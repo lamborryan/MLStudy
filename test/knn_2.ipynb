{
 "cells": [
  {
   "cell_type": "markdown",
   "metadata": {},
   "source": [
    "## test 2, 手写数字数据集"
   ]
  },
  {
   "cell_type": "code",
   "execution_count": 26,
   "metadata": {
    "collapsed": false
   },
   "outputs": [
    {
     "name": "stdout",
     "output_type": "stream",
     "text": [
      "file 1_86.txt: right : 1-> error : 7\n",
      "file 3_11.txt: right : 3-> error : 9\n",
      "file 3_55.txt: right : 3-> error : 9\n",
      "file 5_42.txt: right : 5-> error : 3\n",
      "file 5_43.txt: right : 5-> error : 6\n",
      "file 8_11.txt: right : 8-> error : 6\n",
      "file 8_23.txt: right : 8-> error : 3\n",
      "file 8_36.txt: right : 8-> error : 1\n",
      "file 8_45.txt: right : 8-> error : 1\n",
      "file 9_14.txt: right : 9-> error : 1\n",
      "file 9_60.txt: right : 9-> error : 7\n",
      "11 error, 946 total\n"
     ]
    }
   ],
   "source": [
    "import os\n",
    "from numpy import *\n",
    "from ml_lambo.knn import KNNClassify\n",
    "\n",
    "## 将32*32的矩阵转换成1*1024的向量\n",
    "def imag2vector(filename):\n",
    "    vect = zeros((1,1024))\n",
    "    with open(filename) as f:\n",
    "        for i in range(32):\n",
    "            line = f.readline()\n",
    "            for j in range(32):\n",
    "                vect[0,i*32+j] = int(line[j])\n",
    "    return vect\n",
    "\n",
    "## train数据转换, 将多个训练文件组成m*1024的训练矩阵, m为训练的文件个数\n",
    "filepath = '../data/Ch02/digits/trainingDigits'\n",
    "label = []\n",
    "files = os.listdir(filepath)\n",
    "rownumber = len(files)\n",
    "trainMat = zeros((rownumber,1024))\n",
    "for i in range(rownumber):\n",
    "    trainMat[i,:] = imag2vector(filepath.strip('/')+'/'+files[i])\n",
    "    label.append(files[i].split('/')[-1].split('_')[0])\n",
    "\n",
    "## test 测试向量\n",
    "testpath = '../data/Ch02/digits/testDigits'\n",
    "testfile = os.listdir(testpath)\n",
    "testrownumber = len(testfile)\n",
    "errornumber = 0\n",
    "for i in range(testrownumber):\n",
    "    testvector = imag2vector(testpath.strip('/')+'/'+testfile[i])\n",
    "    testlabel = int(testfile[i].split('/')[-1].split('_')[0])\n",
    "    ## 验证测试\n",
    "    result = KNNClassify(testvector,trainMat,label,3)\n",
    "    if (int(testlabel) != int(result)):\n",
    "        errornumber += 1\n",
    "        print(\"file %s: right : %d-> error : %d\"%(testfile[i],int(testlabel),int(result)))\n",
    "print(\"%d error, %d total\"%(errornumber,testrownumber))   "
   ]
  }
 ],
 "metadata": {
  "kernelspec": {
   "display_name": "Python 2",
   "language": "python",
   "name": "python2"
  },
  "language_info": {
   "codemirror_mode": {
    "name": "ipython",
    "version": 2
   },
   "file_extension": ".py",
   "mimetype": "text/x-python",
   "name": "python",
   "nbconvert_exporter": "python",
   "pygments_lexer": "ipython2",
   "version": "2.7.11"
  }
 },
 "nbformat": 4,
 "nbformat_minor": 0
}
